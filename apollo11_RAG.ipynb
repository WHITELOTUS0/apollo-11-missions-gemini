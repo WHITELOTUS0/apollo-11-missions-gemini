{
  "nbformat": 4,
  "nbformat_minor": 0,
  "metadata": {
    "colab": {
      "provenance": []
    },
    "kernelspec": {
      "name": "python3",
      "display_name": "Python 3"
    },
    "language_info": {
      "name": "python"
    }
  },
  "cells": [
    {
      "cell_type": "code",
      "execution_count": null,
      "metadata": {
        "colab": {
          "base_uri": "https://localhost:8080/",
          "height": 634
        },
        "id": "B_q3XPE46U6n",
        "outputId": "36979aaf-8fe0-4be0-886b-52a33b47dc5f"
      },
      "outputs": [
        {
          "output_type": "stream",
          "name": "stdout",
          "text": [
            "Reading package lists... Done\n",
            "Building dependency tree... Done\n",
            "Reading state information... Done\n",
            "libtesseract-dev is already the newest version (4.1.1-2.1build1).\n",
            "tesseract-ocr is already the newest version (4.1.1-2.1build1).\n",
            "0 upgraded, 0 newly installed, 0 to remove and 49 not upgraded.\n",
            "Collecting google-generativeai\n",
            "  Downloading google_generativeai-0.8.3-py3-none-any.whl.metadata (3.9 kB)\n",
            "Collecting chromadb\n",
            "  Using cached chromadb-0.5.23-py3-none-any.whl.metadata (6.8 kB)\n",
            "Collecting pytesseract\n",
            "  Using cached pytesseract-0.3.13-py3-none-any.whl.metadata (11 kB)\n",
            "Downloading google_generativeai-0.8.3-py3-none-any.whl (160 kB)\n",
            "\u001b[2K   \u001b[90m━━━━━━━━━━━━━━━━━━━━━━━━━━━━━━━━━━━━━━━━\u001b[0m \u001b[32m160.8/160.8 kB\u001b[0m \u001b[31m3.0 MB/s\u001b[0m eta \u001b[36m0:00:00\u001b[0m\n",
            "\u001b[?25hUsing cached chromadb-0.5.23-py3-none-any.whl (628 kB)\n",
            "Using cached pytesseract-0.3.13-py3-none-any.whl (14 kB)\n",
            "Installing collected packages: pytesseract, google-generativeai, chromadb\n",
            "  Attempting uninstall: pytesseract\n",
            "    Found existing installation: pytesseract 0.3.13\n",
            "    Uninstalling pytesseract-0.3.13:\n",
            "      Successfully uninstalled pytesseract-0.3.13\n",
            "  Attempting uninstall: google-generativeai\n",
            "    Found existing installation: google-generativeai 0.8.3\n",
            "    Uninstalling google-generativeai-0.8.3:\n",
            "      Successfully uninstalled google-generativeai-0.8.3\n",
            "  Attempting uninstall: chromadb\n",
            "    Found existing installation: chromadb 0.5.23\n",
            "    Uninstalling chromadb-0.5.23:\n",
            "      Successfully uninstalled chromadb-0.5.23\n",
            "Successfully installed chromadb-0.5.23 google-generativeai-0.8.3 pytesseract-0.3.13\n"
          ]
        },
        {
          "output_type": "display_data",
          "data": {
            "application/vnd.colab-display-data+json": {
              "pip_warning": {
                "packages": [
                  "chromadb",
                  "google",
                  "pytesseract"
                ]
              },
              "id": "975090f7f1ae43cea0ee3471f1554e32"
            }
          },
          "metadata": {}
        }
      ],
      "source": [
        "!apt install tesseract-ocr libtesseract-dev\n",
        "!pip install --no-deps --force-reinstall  google-generativeai chromadb pytesseract"
      ]
    },
    {
      "cell_type": "code",
      "source": [
        "import time\n",
        "from tqdm import tqdm\n",
        "import pathlib\n",
        "import google.generativeai as genai\n",
        "import chromadb\n",
        "from chromadb import Documents, EmbeddingFunction, Embeddings\n",
        "import pandas as pd\n",
        "from PIL import Image\n",
        "import pytesseract\n",
        "from IPython.display import Markdown"
      ],
      "metadata": {
        "id": "hsoZ20486nHD"
      },
      "execution_count": null,
      "outputs": []
    },
    {
      "cell_type": "code",
      "source": [
        "from google.colab import userdata\n",
        "GOOGLE_API_KEY=userdata.get('GOOGLE_API_KEY')\n",
        "\n",
        "genai.configure(api_key=GOOGLE_API_KEY)"
      ],
      "metadata": {
        "id": "OahHn5i67iFo"
      },
      "execution_count": null,
      "outputs": []
    },
    {
      "cell_type": "markdown",
      "source": [
        "## Project Description\n",
        "You're an astronomy student who's very curious about the Apollo 11 missions, and through your research, you've found a lot of different types of data (otherwise known as multimodal) from NASA's public archive.\n",
        "\n",
        "- Text: You have the full final NASA report post-mission, spanning over 300 pages of incredibly informative content that details a summary of everything that happened as well as conclusions that NASA researchers and engineers came to. For the sake of this exercise, we've selected 3 particularly interesting pages, and converted them to images (you'll see soon why).\n",
        "\n",
        "- Video: You also have several clips of the famous Neil Armstrong and Buzz Aldrin footage as they first stepped onto the moon, containing highlights of their moonwalks as well as raising the American flag.\n",
        "\n",
        "- Audio: Finally, you have highlights from the audio recorded throughout the mission, which provides insights into how communication between the astronauts occurred as well as from the astronauts to mission control.\n",
        "\n",
        "Now, you want to search through and summarize this information for your upcoming research paper. Using your newfound skills from this course, you can accomplish this using Gemini! In particular, we will build a Retrieval Augmented Generation (RAG) system that you can directly interact with."
      ],
      "metadata": {
        "id": "84UrPRu07lTw"
      }
    },
    {
      "cell_type": "markdown",
      "source": [
        "## Data Preparation\n",
        "Before we begin, ensure that you've uploaded the resources.zip folder and unzipped it using the following command:"
      ],
      "metadata": {
        "id": "BUKhGVKg8Br_"
      }
    },
    {
      "cell_type": "code",
      "source": [
        "!wget -O resources.zip \"https://video.udacity-data.com/topher/2024/June/66744e79_resources/resources.zip\""
      ],
      "metadata": {
        "colab": {
          "base_uri": "https://localhost:8080/"
        },
        "id": "wjD9e7jM8DzN",
        "outputId": "92dd92cb-c4b4-4a2a-e0de-96687396d6c6"
      },
      "execution_count": null,
      "outputs": [
        {
          "output_type": "stream",
          "name": "stdout",
          "text": [
            "--2024-12-25 17:49:46--  https://video.udacity-data.com/topher/2024/June/66744e79_resources/resources.zip\n",
            "Resolving video.udacity-data.com (video.udacity-data.com)... 104.19.142.72, 104.19.139.72, 104.19.141.72, ...\n",
            "Connecting to video.udacity-data.com (video.udacity-data.com)|104.19.142.72|:443... connected.\n",
            "HTTP request sent, awaiting response... 200 OK\n",
            "Length: 286142532 (273M) [application/zip]\n",
            "Saving to: ‘resources.zip’\n",
            "\n",
            "resources.zip       100%[===================>] 272.89M   180MB/s    in 1.5s    \n",
            "\n",
            "2024-12-25 17:49:48 (180 MB/s) - ‘resources.zip’ saved [286142532/286142532]\n",
            "\n"
          ]
        }
      ]
    },
    {
      "cell_type": "code",
      "source": [
        "!unzip resources.zip"
      ],
      "metadata": {
        "colab": {
          "base_uri": "https://localhost:8080/"
        },
        "id": "7m5XJX-C8JZ1",
        "outputId": "c0f7366e-1ab4-45a1-81b1-b72122ce9e03"
      },
      "execution_count": null,
      "outputs": [
        {
          "output_type": "stream",
          "name": "stdout",
          "text": [
            "Archive:  resources.zip\n",
            "   creating: resources/\n",
            "  inflating: __MACOSX/._resources    \n",
            "   creating: resources/video/\n",
            "  inflating: __MACOSX/resources/._video  \n",
            "  inflating: resources/.DS_Store     \n",
            "  inflating: __MACOSX/resources/._.DS_Store  \n",
            "   creating: resources/audio/\n",
            "  inflating: __MACOSX/resources/._audio  \n",
            "   creating: resources/text/\n",
            "  inflating: __MACOSX/resources/._text  \n",
            "  inflating: resources/video/Apollo11PlaqueComparison.mov  \n",
            "  inflating: __MACOSX/resources/video/._Apollo11PlaqueComparison.mov  \n",
            "  inflating: resources/video/Apollo11Intro.mov  \n",
            "  inflating: __MACOSX/resources/video/._Apollo11Intro.mov  \n",
            "  inflating: resources/video/Apollo11MoonwalkMontage.mov  \n",
            "  inflating: __MACOSX/resources/video/._Apollo11MoonwalkMontage.mov  \n",
            "  inflating: resources/video/OneSmallStepCompilation.mov  \n",
            "  inflating: __MACOSX/resources/video/._OneSmallStepCompilation.mov  \n",
            "  inflating: resources/video/RaisingTheAmericanFlag.mov  \n",
            "  inflating: __MACOSX/resources/video/._RaisingTheAmericanFlag.mov  \n",
            "  inflating: resources/video/BuzzDescendsCompilation.mov  \n",
            "  inflating: __MACOSX/resources/video/._BuzzDescendsCompilation.mov  \n",
            "  inflating: resources/audio/Apollo11OnboardAudioHighlightClip1.mp3  \n",
            "  inflating: __MACOSX/resources/audio/._Apollo11OnboardAudioHighlightClip1.mp3  \n",
            "  inflating: resources/audio/Apollo11OnboardAudioHighlightClip3.mp3  \n",
            "  inflating: __MACOSX/resources/audio/._Apollo11OnboardAudioHighlightClip3.mp3  \n",
            "  inflating: resources/audio/Apollo11OnboardAudioHighlightClip2.mp3  \n",
            "  inflating: __MACOSX/resources/audio/._Apollo11OnboardAudioHighlightClip2.mp3  \n",
            "  inflating: resources/audio/Apollo11OnboardAudioHighlightClip5.mp3  \n",
            "  inflating: __MACOSX/resources/audio/._Apollo11OnboardAudioHighlightClip5.mp3  \n",
            "  inflating: resources/audio/Apollo11OnboardAudioHighlightClip4.mp3  \n",
            "  inflating: __MACOSX/resources/audio/._Apollo11OnboardAudioHighlightClip4.mp3  \n",
            "  inflating: resources/text/.DS_Store  \n",
            "  inflating: __MACOSX/resources/text/._.DS_Store  \n",
            "  inflating: resources/text/images-333.jpg  \n",
            "  inflating: __MACOSX/resources/text/._images-333.jpg  \n",
            "  inflating: resources/text/images-020.jpg  \n",
            "  inflating: __MACOSX/resources/text/._images-020.jpg  \n",
            "  inflating: resources/text/images-023.jpg  \n",
            "  inflating: __MACOSX/resources/text/._images-023.jpg  \n"
          ]
        }
      ]
    },
    {
      "cell_type": "markdown",
      "source": [
        "We first need to parse it in a way that Gemini can understand. We will prepare our data by extracting all file names from the `resources` directory."
      ],
      "metadata": {
        "id": "1NqtQwZL8WhK"
      }
    },
    {
      "cell_type": "code",
      "source": [
        "data_dir = pathlib.Path(\"resources/\")\n",
        "all_file_names = [str(file) for file in data_dir.rglob(\"*\") if file.is_file() and not file.name.startswith('.')]"
      ],
      "metadata": {
        "id": "-ESbv_fM8Qgf"
      },
      "execution_count": null,
      "outputs": []
    },
    {
      "cell_type": "code",
      "source": [
        "for file_name in all_file_names:\n",
        "    print(file_name)\n",
        "\n",
        "print(len(all_file_names))"
      ],
      "metadata": {
        "colab": {
          "base_uri": "https://localhost:8080/"
        },
        "id": "K4zsRscr8hPZ",
        "outputId": "ccb4cb89-22ef-4aa4-a126-3077f6e8cb30"
      },
      "execution_count": null,
      "outputs": [
        {
          "output_type": "stream",
          "name": "stdout",
          "text": [
            "resources/video/BuzzDescendsCompilation.mov\n",
            "resources/video/OneSmallStepCompilation.mov\n",
            "resources/video/Apollo11Intro.mov\n",
            "resources/video/Apollo11PlaqueComparison.mov\n",
            "resources/video/Apollo11MoonwalkMontage.mov\n",
            "resources/video/RaisingTheAmericanFlag.mov\n",
            "resources/text/images-020.jpg\n",
            "resources/text/images-333.jpg\n",
            "resources/text/images-023.jpg\n",
            "resources/audio/Apollo11OnboardAudioHighlightClip1.mp3\n",
            "resources/audio/Apollo11OnboardAudioHighlightClip5.mp3\n",
            "resources/audio/Apollo11OnboardAudioHighlightClip2.mp3\n",
            "resources/audio/Apollo11OnboardAudioHighlightClip4.mp3\n",
            "resources/audio/Apollo11OnboardAudioHighlightClip3.mp3\n",
            "14\n"
          ]
        }
      ]
    },
    {
      "cell_type": "markdown",
      "source": [
        "You should expect to see 14 files"
      ],
      "metadata": {
        "id": "Kltva6248naN"
      }
    },
    {
      "cell_type": "markdown",
      "source": [
        "## Retrieval Augmented Generation (RAG)\n",
        "To showcase how we build a RAG, we will first build one for the Text case, and generalize it further after. Here is the general idea:\n",
        "\n",
        "1. **Data Preparation** (done above): We first collected various types of data from NASA's public archive related to the Apollo 11 mission, including text, video, and audio files.\n",
        "2. **Data Extraction and Summarization**: Extract the multimodal data from images, e.g. extract text from images using Optical Character Recognition (OCR), and use Gemini to generate summaries using a specialized prompt.\n",
        "3. **Embedding Generation**: Convert the generated summaries into vector embeddings using Gemini's Text Embedding Model. These embeddings represent the summaries in a numerical format suitable for efficient similarity searches.\n",
        "4. **Creating a Vector Database**: A Vector database was created to store the embeddings. This database facilitates fast and efficient retrieval of relevant documents based on similarity searches. We chose to use Chroma DB.\n",
        "5. **Querying the RAG System**: For a given query, the system retrieves the most relevant documents (based on their embeddings) and generates a response using the retrieved documents as context.\n",
        "\n",
        "Something important to note is that RAGs are usually used only when there is a surplus of data. In other words, if the data can't fit into the model prompt. In this case, the data we provided likely can fit into Gemini's 1 million token window, but for the sake of simplicity and restrictions of Google Colab's runtime, we opted to use a smaller set of data."
      ],
      "metadata": {
        "id": "kHO8r7s58yUb"
      }
    },
    {
      "cell_type": "markdown",
      "source": [
        "## Text\n",
        "We will use Tesseract OCR (Optical Character Recognition) to extract text from images of the NASA report."
      ],
      "metadata": {
        "id": "Ne0qPyXz9WCD"
      }
    },
    {
      "cell_type": "code",
      "source": [
        "pytesseract.pytesseract.tesseract_cmd = (r'/usr/bin/tesseract')"
      ],
      "metadata": {
        "id": "gyhVdfXh9Uyf"
      },
      "execution_count": null,
      "outputs": []
    },
    {
      "cell_type": "markdown",
      "source": [
        "Let's create a function to take in our images of a PDF, transcribe them into text, and summarize each of them."
      ],
      "metadata": {
        "id": "MA07FQeo9cIE"
      }
    },
    {
      "cell_type": "code",
      "source": [
        "def create_text_summary():\n",
        "  path = pathlib.Path(\"resources/text\")\n",
        "\n",
        "  text_summary_prompt = f\"\"\"You are an assistant tailored for summarizing text for retrieval.\n",
        "  These summaries will be turned into vector embeddings and used to retrieve the raw text.\n",
        "  Give a concise summary of the text that is well optimized for retrieval. Here is the text.\"\"\"\n",
        "\n",
        "  images = []\n",
        "  text_summaries = []\n",
        "\n",
        "  for f in path.glob(\"*\"):\n",
        "    if f.is_dir() or f.name.startswith('.'):\n",
        "      continue\n",
        "\n",
        "    image = Image.open(f)\n",
        "    response = model.generate_content([text_summary_prompt, pytesseract.image_to_string(image)])\n",
        "\n",
        "    images.append(image)\n",
        "    text_summaries.append(response.text)\n",
        "\n",
        "  return images, text_summaries"
      ],
      "metadata": {
        "id": "qr78CIRf9goV"
      },
      "execution_count": null,
      "outputs": []
    },
    {
      "cell_type": "code",
      "source": [
        "safety_settings = [\n",
        "    {\n",
        "        \"category\": \"HARM_CATEGORY_DANGEROUS_CONTENT\",\n",
        "        \"threshold\": \"BLOCK_NONE\",\n",
        "    },\n",
        "]\n",
        "\n",
        "model = genai.GenerativeModel('models/gemini-1.5-flash', safety_settings=safety_settings)"
      ],
      "metadata": {
        "id": "mXnLX1OL9oE7"
      },
      "execution_count": null,
      "outputs": []
    },
    {
      "cell_type": "code",
      "source": [
        "image_files, text_summaries = create_text_summary()"
      ],
      "metadata": {
        "id": "bfi9X_Vb9sei"
      },
      "execution_count": null,
      "outputs": []
    },
    {
      "cell_type": "markdown",
      "source": [
        "Now, we can check out the generated summaries of the three pages we have!"
      ],
      "metadata": {
        "id": "96XPQZhL9lBu"
      }
    },
    {
      "cell_type": "code",
      "source": [
        "for text_summary in text_summaries:\n",
        "  print(text_summary)"
      ],
      "metadata": {
        "colab": {
          "base_uri": "https://localhost:8080/"
        },
        "id": "CP8uI25M93tQ",
        "outputId": "dbef54f4-4e82-4a26-dd1b-8f1451240a97"
      },
      "execution_count": null,
      "outputs": [
        {
          "output_type": "stream",
          "name": "stdout",
          "text": [
            "Apollo 11 Flight Plan, prepared by Flight Planning Branch with TRW support, schedules AS-506/CSM-107/LM-5 operations for a July 16, 1969 launch.  Trajectory parameters are from Mission Planning and Analysis Division.  Changes require Crew Procedures Change Request via the Crew Procedures Control Board (CPCB), addressing crew training, test objectives, RCS/EPS budget, major activity shifts, and flight data file changes.  T. A. Guillory coordinates changes; W. J. North handles distribution requests.\n",
            "\n",
            "Lunar mission assumptions: Descent stage batteries activated 30 minutes pre-liftoff; 3.8-hour lunar orbit checkout; ascent/descent batteries paralleled during powered descent and pre-liftoff; S-band equipment 100% operational; rendezvous radar operational per flight plan; PGNCS in operate mode throughout lunar stay; forward window heaters off.\n",
            "\n",
            "Apollo mission launch (9:32 EDT July 16, 1969) and translunar coast details.  Earth orbit insertion at 11 min 43 sec.  Translunar injection (TLI) at 2:44:26 GET.  Includes CSM systems check, optional IMU realignment, transposition, docking, LM ejection, SIVB separation, propulsive venting, navigation sightings, and midcourse corrections.\n",
            "\n"
          ]
        }
      ]
    },
    {
      "cell_type": "markdown",
      "source": [
        "We create the Chroma database using the generated summaries. You might be wondering what Vector DB and Chroma DB are.\n",
        "\n",
        "**Vector Database**: A specialized database designed to store and manage high-dimensional vectors, which are numerical representations of data points. It allows efficient similarity searches to find vectors (and their corresponding data) that are close to a given query vector.\n",
        "\n",
        "**Chroma DB**: An implementation of a vector database used to store and retrieve vector embeddings. These embeddings are generated from our summaries and allow us to perform efficient similarity searches."
      ],
      "metadata": {
        "id": "QtnFtQgm-C65"
      }
    },
    {
      "cell_type": "code",
      "source": [
        "class GeminiEmbeddingFunction(EmbeddingFunction):\n",
        "  def __call__(self, input: Documents) -> Embeddings:\n",
        "    model = 'models/text-embedding-004'\n",
        "    title = \"Custom query\"\n",
        "    return genai.embed_content(model=model,\n",
        "                                content=input,\n",
        "                                task_type=\"retrieval_document\",\n",
        "                                title=title)[\"embedding\"]"
      ],
      "metadata": {
        "id": "JWxSmmJc-LqV"
      },
      "execution_count": 12,
      "outputs": []
    },
    {
      "cell_type": "code",
      "source": [
        "def create_chroma_db(documents, name):\n",
        "  chroma_client = chromadb.Client()\n",
        "  db = chroma_client.get_or_create_collection(name=name, embedding_function=GeminiEmbeddingFunction())\n",
        "\n",
        "  for i, d in enumerate(documents):\n",
        "    db.add(\n",
        "      documents=d,\n",
        "      ids=str(i)\n",
        "    )\n",
        "  return db"
      ],
      "metadata": {
        "id": "3EkrTdSx-Q03"
      },
      "execution_count": 13,
      "outputs": []
    },
    {
      "cell_type": "code",
      "source": [
        "text_db = create_chroma_db(text_summaries, \"text_nasa\")"
      ],
      "metadata": {
        "id": "_x2bCGhU-X_4"
      },
      "execution_count": 14,
      "outputs": []
    },
    {
      "cell_type": "markdown",
      "source": [
        "Let's also take a peak at the `text_db` and ensure that embeddings were generated:"
      ],
      "metadata": {
        "id": "3zIifdCI-fbs"
      }
    },
    {
      "cell_type": "code",
      "source": [
        "peek_data = text_db.peek()\n",
        "\n",
        "data = {\n",
        "    'documents': peek_data['documents'],\n",
        "    'embeddings': []\n",
        "}\n",
        "for emb in peek_data['embeddings']:\n",
        "    data['embeddings'].append(emb)\n",
        "\n",
        "\n",
        "df = pd.DataFrame.from_dict(data, orient='index').transpose()\n",
        "df"
      ],
      "metadata": {
        "id": "sMuwMzEc-h1A",
        "colab": {
          "base_uri": "https://localhost:8080/",
          "height": 143
        },
        "outputId": "f192b933-9809-4256-9745-d41de94cce69"
      },
      "execution_count": 17,
      "outputs": [
        {
          "output_type": "execute_result",
          "data": {
            "text/plain": [
              "                                           documents  \\\n",
              "0  Apollo 11 Flight Plan, prepared by Flight Plan...   \n",
              "1  Lunar mission assumptions: Descent stage batte...   \n",
              "2  Apollo mission launch (9:32 EDT July 16, 1969)...   \n",
              "\n",
              "                                          embeddings  \n",
              "0  [0.07943899929523468, 0.004107338842004538, 0....  \n",
              "1  [0.0692022368311882, 0.007176002021878958, -0....  \n",
              "2  [0.0758017897605896, 0.012810258194804192, 0.0...  "
            ],
            "text/html": [
              "\n",
              "  <div id=\"df-c9136b47-80f0-4594-be6f-824f9b5dcd99\" class=\"colab-df-container\">\n",
              "    <div>\n",
              "<style scoped>\n",
              "    .dataframe tbody tr th:only-of-type {\n",
              "        vertical-align: middle;\n",
              "    }\n",
              "\n",
              "    .dataframe tbody tr th {\n",
              "        vertical-align: top;\n",
              "    }\n",
              "\n",
              "    .dataframe thead th {\n",
              "        text-align: right;\n",
              "    }\n",
              "</style>\n",
              "<table border=\"1\" class=\"dataframe\">\n",
              "  <thead>\n",
              "    <tr style=\"text-align: right;\">\n",
              "      <th></th>\n",
              "      <th>documents</th>\n",
              "      <th>embeddings</th>\n",
              "    </tr>\n",
              "  </thead>\n",
              "  <tbody>\n",
              "    <tr>\n",
              "      <th>0</th>\n",
              "      <td>Apollo 11 Flight Plan, prepared by Flight Plan...</td>\n",
              "      <td>[0.07943899929523468, 0.004107338842004538, 0....</td>\n",
              "    </tr>\n",
              "    <tr>\n",
              "      <th>1</th>\n",
              "      <td>Lunar mission assumptions: Descent stage batte...</td>\n",
              "      <td>[0.0692022368311882, 0.007176002021878958, -0....</td>\n",
              "    </tr>\n",
              "    <tr>\n",
              "      <th>2</th>\n",
              "      <td>Apollo mission launch (9:32 EDT July 16, 1969)...</td>\n",
              "      <td>[0.0758017897605896, 0.012810258194804192, 0.0...</td>\n",
              "    </tr>\n",
              "  </tbody>\n",
              "</table>\n",
              "</div>\n",
              "    <div class=\"colab-df-buttons\">\n",
              "\n",
              "  <div class=\"colab-df-container\">\n",
              "    <button class=\"colab-df-convert\" onclick=\"convertToInteractive('df-c9136b47-80f0-4594-be6f-824f9b5dcd99')\"\n",
              "            title=\"Convert this dataframe to an interactive table.\"\n",
              "            style=\"display:none;\">\n",
              "\n",
              "  <svg xmlns=\"http://www.w3.org/2000/svg\" height=\"24px\" viewBox=\"0 -960 960 960\">\n",
              "    <path d=\"M120-120v-720h720v720H120Zm60-500h600v-160H180v160Zm220 220h160v-160H400v160Zm0 220h160v-160H400v160ZM180-400h160v-160H180v160Zm440 0h160v-160H620v160ZM180-180h160v-160H180v160Zm440 0h160v-160H620v160Z\"/>\n",
              "  </svg>\n",
              "    </button>\n",
              "\n",
              "  <style>\n",
              "    .colab-df-container {\n",
              "      display:flex;\n",
              "      gap: 12px;\n",
              "    }\n",
              "\n",
              "    .colab-df-convert {\n",
              "      background-color: #E8F0FE;\n",
              "      border: none;\n",
              "      border-radius: 50%;\n",
              "      cursor: pointer;\n",
              "      display: none;\n",
              "      fill: #1967D2;\n",
              "      height: 32px;\n",
              "      padding: 0 0 0 0;\n",
              "      width: 32px;\n",
              "    }\n",
              "\n",
              "    .colab-df-convert:hover {\n",
              "      background-color: #E2EBFA;\n",
              "      box-shadow: 0px 1px 2px rgba(60, 64, 67, 0.3), 0px 1px 3px 1px rgba(60, 64, 67, 0.15);\n",
              "      fill: #174EA6;\n",
              "    }\n",
              "\n",
              "    .colab-df-buttons div {\n",
              "      margin-bottom: 4px;\n",
              "    }\n",
              "\n",
              "    [theme=dark] .colab-df-convert {\n",
              "      background-color: #3B4455;\n",
              "      fill: #D2E3FC;\n",
              "    }\n",
              "\n",
              "    [theme=dark] .colab-df-convert:hover {\n",
              "      background-color: #434B5C;\n",
              "      box-shadow: 0px 1px 3px 1px rgba(0, 0, 0, 0.15);\n",
              "      filter: drop-shadow(0px 1px 2px rgba(0, 0, 0, 0.3));\n",
              "      fill: #FFFFFF;\n",
              "    }\n",
              "  </style>\n",
              "\n",
              "    <script>\n",
              "      const buttonEl =\n",
              "        document.querySelector('#df-c9136b47-80f0-4594-be6f-824f9b5dcd99 button.colab-df-convert');\n",
              "      buttonEl.style.display =\n",
              "        google.colab.kernel.accessAllowed ? 'block' : 'none';\n",
              "\n",
              "      async function convertToInteractive(key) {\n",
              "        const element = document.querySelector('#df-c9136b47-80f0-4594-be6f-824f9b5dcd99');\n",
              "        const dataTable =\n",
              "          await google.colab.kernel.invokeFunction('convertToInteractive',\n",
              "                                                    [key], {});\n",
              "        if (!dataTable) return;\n",
              "\n",
              "        const docLinkHtml = 'Like what you see? Visit the ' +\n",
              "          '<a target=\"_blank\" href=https://colab.research.google.com/notebooks/data_table.ipynb>data table notebook</a>'\n",
              "          + ' to learn more about interactive tables.';\n",
              "        element.innerHTML = '';\n",
              "        dataTable['output_type'] = 'display_data';\n",
              "        await google.colab.output.renderOutput(dataTable, element);\n",
              "        const docLink = document.createElement('div');\n",
              "        docLink.innerHTML = docLinkHtml;\n",
              "        element.appendChild(docLink);\n",
              "      }\n",
              "    </script>\n",
              "  </div>\n",
              "\n",
              "\n",
              "<div id=\"df-316a10ee-f25d-4266-95f8-289d81aaa4b4\">\n",
              "  <button class=\"colab-df-quickchart\" onclick=\"quickchart('df-316a10ee-f25d-4266-95f8-289d81aaa4b4')\"\n",
              "            title=\"Suggest charts\"\n",
              "            style=\"display:none;\">\n",
              "\n",
              "<svg xmlns=\"http://www.w3.org/2000/svg\" height=\"24px\"viewBox=\"0 0 24 24\"\n",
              "     width=\"24px\">\n",
              "    <g>\n",
              "        <path d=\"M19 3H5c-1.1 0-2 .9-2 2v14c0 1.1.9 2 2 2h14c1.1 0 2-.9 2-2V5c0-1.1-.9-2-2-2zM9 17H7v-7h2v7zm4 0h-2V7h2v10zm4 0h-2v-4h2v4z\"/>\n",
              "    </g>\n",
              "</svg>\n",
              "  </button>\n",
              "\n",
              "<style>\n",
              "  .colab-df-quickchart {\n",
              "      --bg-color: #E8F0FE;\n",
              "      --fill-color: #1967D2;\n",
              "      --hover-bg-color: #E2EBFA;\n",
              "      --hover-fill-color: #174EA6;\n",
              "      --disabled-fill-color: #AAA;\n",
              "      --disabled-bg-color: #DDD;\n",
              "  }\n",
              "\n",
              "  [theme=dark] .colab-df-quickchart {\n",
              "      --bg-color: #3B4455;\n",
              "      --fill-color: #D2E3FC;\n",
              "      --hover-bg-color: #434B5C;\n",
              "      --hover-fill-color: #FFFFFF;\n",
              "      --disabled-bg-color: #3B4455;\n",
              "      --disabled-fill-color: #666;\n",
              "  }\n",
              "\n",
              "  .colab-df-quickchart {\n",
              "    background-color: var(--bg-color);\n",
              "    border: none;\n",
              "    border-radius: 50%;\n",
              "    cursor: pointer;\n",
              "    display: none;\n",
              "    fill: var(--fill-color);\n",
              "    height: 32px;\n",
              "    padding: 0;\n",
              "    width: 32px;\n",
              "  }\n",
              "\n",
              "  .colab-df-quickchart:hover {\n",
              "    background-color: var(--hover-bg-color);\n",
              "    box-shadow: 0 1px 2px rgba(60, 64, 67, 0.3), 0 1px 3px 1px rgba(60, 64, 67, 0.15);\n",
              "    fill: var(--button-hover-fill-color);\n",
              "  }\n",
              "\n",
              "  .colab-df-quickchart-complete:disabled,\n",
              "  .colab-df-quickchart-complete:disabled:hover {\n",
              "    background-color: var(--disabled-bg-color);\n",
              "    fill: var(--disabled-fill-color);\n",
              "    box-shadow: none;\n",
              "  }\n",
              "\n",
              "  .colab-df-spinner {\n",
              "    border: 2px solid var(--fill-color);\n",
              "    border-color: transparent;\n",
              "    border-bottom-color: var(--fill-color);\n",
              "    animation:\n",
              "      spin 1s steps(1) infinite;\n",
              "  }\n",
              "\n",
              "  @keyframes spin {\n",
              "    0% {\n",
              "      border-color: transparent;\n",
              "      border-bottom-color: var(--fill-color);\n",
              "      border-left-color: var(--fill-color);\n",
              "    }\n",
              "    20% {\n",
              "      border-color: transparent;\n",
              "      border-left-color: var(--fill-color);\n",
              "      border-top-color: var(--fill-color);\n",
              "    }\n",
              "    30% {\n",
              "      border-color: transparent;\n",
              "      border-left-color: var(--fill-color);\n",
              "      border-top-color: var(--fill-color);\n",
              "      border-right-color: var(--fill-color);\n",
              "    }\n",
              "    40% {\n",
              "      border-color: transparent;\n",
              "      border-right-color: var(--fill-color);\n",
              "      border-top-color: var(--fill-color);\n",
              "    }\n",
              "    60% {\n",
              "      border-color: transparent;\n",
              "      border-right-color: var(--fill-color);\n",
              "    }\n",
              "    80% {\n",
              "      border-color: transparent;\n",
              "      border-right-color: var(--fill-color);\n",
              "      border-bottom-color: var(--fill-color);\n",
              "    }\n",
              "    90% {\n",
              "      border-color: transparent;\n",
              "      border-bottom-color: var(--fill-color);\n",
              "    }\n",
              "  }\n",
              "</style>\n",
              "\n",
              "  <script>\n",
              "    async function quickchart(key) {\n",
              "      const quickchartButtonEl =\n",
              "        document.querySelector('#' + key + ' button');\n",
              "      quickchartButtonEl.disabled = true;  // To prevent multiple clicks.\n",
              "      quickchartButtonEl.classList.add('colab-df-spinner');\n",
              "      try {\n",
              "        const charts = await google.colab.kernel.invokeFunction(\n",
              "            'suggestCharts', [key], {});\n",
              "      } catch (error) {\n",
              "        console.error('Error during call to suggestCharts:', error);\n",
              "      }\n",
              "      quickchartButtonEl.classList.remove('colab-df-spinner');\n",
              "      quickchartButtonEl.classList.add('colab-df-quickchart-complete');\n",
              "    }\n",
              "    (() => {\n",
              "      let quickchartButtonEl =\n",
              "        document.querySelector('#df-316a10ee-f25d-4266-95f8-289d81aaa4b4 button');\n",
              "      quickchartButtonEl.style.display =\n",
              "        google.colab.kernel.accessAllowed ? 'block' : 'none';\n",
              "    })();\n",
              "  </script>\n",
              "</div>\n",
              "\n",
              "  <div id=\"id_646d1a74-8dba-49ee-aa42-2af6ee6bec02\">\n",
              "    <style>\n",
              "      .colab-df-generate {\n",
              "        background-color: #E8F0FE;\n",
              "        border: none;\n",
              "        border-radius: 50%;\n",
              "        cursor: pointer;\n",
              "        display: none;\n",
              "        fill: #1967D2;\n",
              "        height: 32px;\n",
              "        padding: 0 0 0 0;\n",
              "        width: 32px;\n",
              "      }\n",
              "\n",
              "      .colab-df-generate:hover {\n",
              "        background-color: #E2EBFA;\n",
              "        box-shadow: 0px 1px 2px rgba(60, 64, 67, 0.3), 0px 1px 3px 1px rgba(60, 64, 67, 0.15);\n",
              "        fill: #174EA6;\n",
              "      }\n",
              "\n",
              "      [theme=dark] .colab-df-generate {\n",
              "        background-color: #3B4455;\n",
              "        fill: #D2E3FC;\n",
              "      }\n",
              "\n",
              "      [theme=dark] .colab-df-generate:hover {\n",
              "        background-color: #434B5C;\n",
              "        box-shadow: 0px 1px 3px 1px rgba(0, 0, 0, 0.15);\n",
              "        filter: drop-shadow(0px 1px 2px rgba(0, 0, 0, 0.3));\n",
              "        fill: #FFFFFF;\n",
              "      }\n",
              "    </style>\n",
              "    <button class=\"colab-df-generate\" onclick=\"generateWithVariable('df')\"\n",
              "            title=\"Generate code using this dataframe.\"\n",
              "            style=\"display:none;\">\n",
              "\n",
              "  <svg xmlns=\"http://www.w3.org/2000/svg\" height=\"24px\"viewBox=\"0 0 24 24\"\n",
              "       width=\"24px\">\n",
              "    <path d=\"M7,19H8.4L18.45,9,17,7.55,7,17.6ZM5,21V16.75L18.45,3.32a2,2,0,0,1,2.83,0l1.4,1.43a1.91,1.91,0,0,1,.58,1.4,1.91,1.91,0,0,1-.58,1.4L9.25,21ZM18.45,9,17,7.55Zm-12,3A5.31,5.31,0,0,0,4.9,8.1,5.31,5.31,0,0,0,1,6.5,5.31,5.31,0,0,0,4.9,4.9,5.31,5.31,0,0,0,6.5,1,5.31,5.31,0,0,0,8.1,4.9,5.31,5.31,0,0,0,12,6.5,5.46,5.46,0,0,0,6.5,12Z\"/>\n",
              "  </svg>\n",
              "    </button>\n",
              "    <script>\n",
              "      (() => {\n",
              "      const buttonEl =\n",
              "        document.querySelector('#id_646d1a74-8dba-49ee-aa42-2af6ee6bec02 button.colab-df-generate');\n",
              "      buttonEl.style.display =\n",
              "        google.colab.kernel.accessAllowed ? 'block' : 'none';\n",
              "\n",
              "      buttonEl.onclick = () => {\n",
              "        google.colab.notebook.generateWithVariable('df');\n",
              "      }\n",
              "      })();\n",
              "    </script>\n",
              "  </div>\n",
              "\n",
              "    </div>\n",
              "  </div>\n"
            ],
            "application/vnd.google.colaboratory.intrinsic+json": {
              "type": "dataframe",
              "variable_name": "df",
              "summary": "{\n  \"name\": \"df\",\n  \"rows\": 3,\n  \"fields\": [\n    {\n      \"column\": \"documents\",\n      \"properties\": {\n        \"dtype\": \"string\",\n        \"num_unique_values\": 3,\n        \"samples\": [\n          \"Apollo 11 Flight Plan, prepared by Flight Planning Branch with TRW support, schedules AS-506/CSM-107/LM-5 operations for a July 16, 1969 launch.  Trajectory parameters are from Mission Planning and Analysis Division.  Changes require Crew Procedures Change Request via the Crew Procedures Control Board (CPCB), addressing crew training, test objectives, RCS/EPS budget, major activity shifts, and flight data file changes.  T. A. Guillory coordinates changes; W. J. North handles distribution requests.\\n\",\n          \"Lunar mission assumptions: Descent stage batteries activated 30 minutes pre-liftoff; 3.8-hour lunar orbit checkout; ascent/descent batteries paralleled during powered descent and pre-liftoff; S-band equipment 100% operational; rendezvous radar operational per flight plan; PGNCS in operate mode throughout lunar stay; forward window heaters off.\\n\",\n          \"Apollo mission launch (9:32 EDT July 16, 1969) and translunar coast details.  Earth orbit insertion at 11 min 43 sec.  Translunar injection (TLI) at 2:44:26 GET.  Includes CSM systems check, optional IMU realignment, transposition, docking, LM ejection, SIVB separation, propulsive venting, navigation sightings, and midcourse corrections.\\n\"\n        ],\n        \"semantic_type\": \"\",\n        \"description\": \"\"\n      }\n    },\n    {\n      \"column\": \"embeddings\",\n      \"properties\": {\n        \"dtype\": \"object\",\n        \"semantic_type\": \"\",\n        \"description\": \"\"\n      }\n    }\n  ]\n}"
            }
          },
          "metadata": {},
          "execution_count": 17
        }
      ]
    },
    {
      "cell_type": "markdown",
      "source": [
        "You should see a column called `embeddings` with what are seemingly random values, but these values are actually high-dimensional vectors that represent the semantic meaning of your summaries.\n",
        "\n",
        "Now let's actually try querying our information. We'll test a simple example like getting some file that has to do with the Apollo 11 Flight Plan."
      ],
      "metadata": {
        "id": "NFOv-Cmk-oRy"
      }
    },
    {
      "cell_type": "code",
      "source": [
        "def get_relevant_files(query, db):\n",
        "  results = db.query(query_texts=[query], n_results=3)\n",
        "  return results[\"ids\"][0]"
      ],
      "metadata": {
        "id": "e7CvWajp-twR"
      },
      "execution_count": 18,
      "outputs": []
    },
    {
      "cell_type": "code",
      "source": [
        "files = get_relevant_files(\"Apollo 11 Flight Plan\", text_db)\n",
        "print(files)"
      ],
      "metadata": {
        "id": "6L_lEhZJ-uwA",
        "colab": {
          "base_uri": "https://localhost:8080/",
          "height": 34
        },
        "outputId": "cc0c4399-a051-47fc-fa81-45d8a552cc47"
      },
      "execution_count": 19,
      "outputs": [
        {
          "output_type": "stream",
          "name": "stdout",
          "text": [
            "['0', '2', '1']\n"
          ]
        }
      ]
    },
    {
      "cell_type": "markdown",
      "source": [
        "You should expect to see something like `['0', '2', '1']`. This means that the first entry in the `text_db` is most similar. If you look above at our `pd.DataFrame` output, the document with id 1 is the document about the Apollo 11 Flight Plan, so this is working as we expected!"
      ],
      "metadata": {
        "id": "Z4xT10Jl-xfM"
      }
    },
    {
      "cell_type": "markdown",
      "source": [
        "## Video and Audio\n",
        "Congrats! W've successfully built a working RAG for text. Now, let's extend this concept to Video and Audio, and build out some more complex queries. We'll begin by generalizing the above summary creation function to all sorts of modalities."
      ],
      "metadata": {
        "id": "RiGG75CFGGSA"
      }
    },
    {
      "cell_type": "code",
      "source": [
        "def create_summary(modality):\n",
        "  path = data_dir / modality\n",
        "\n",
        "  summary_prompt = f\"\"\"You are an assistant tailored for summarizing {modality} for retrieval.\n",
        "  These summaries will be turned into vector embeddings and used to retrieve the raw {modality}.\n",
        "  Give a concise summary of the {modality} that is well optimized for retrieval. Here is the {modality}.\"\"\"\n",
        "\n",
        "  files = []\n",
        "  summaries = []\n",
        "\n",
        "  for f in path.glob(\"*\"):\n",
        "    if f.is_dir() or f.name.startswith('.'):\n",
        "      continue\n",
        "    print(f)\n",
        "\n",
        "    if modality == \"text\":\n",
        "      file = Image.open(f)\n",
        "      response = model.generate_content([summary_prompt, pytesseract.image_to_string(file)])\n",
        "\n",
        "    else:\n",
        "      file = genai.upload_file(f)\n",
        "\n",
        "      while file.state.name == \"PROCESSING\":\n",
        "        print(\"Waiting for video file upload...\\n\", end='')\n",
        "        time.sleep(5)\n",
        "        file = genai.get_file(file.name)\n",
        "\n",
        "      response = model.generate_content([summary_prompt, file])\n",
        "\n",
        "    files.append(file)\n",
        "    summaries.append(response.text)\n",
        "\n",
        "  return files, summaries"
      ],
      "metadata": {
        "id": "9G0N717hD_HT"
      },
      "execution_count": 39,
      "outputs": []
    },
    {
      "cell_type": "markdown",
      "source": [
        "Now, we will create a folder with all of our data of different modalities. In particular, the first 5 are audio files, next 3 are text files, and final 6 are video files."
      ],
      "metadata": {
        "id": "aGKG4HtXGOLG"
      }
    },
    {
      "cell_type": "code",
      "source": [
        "all_files = []\n",
        "all_summaries = []\n",
        "\n",
        "for modality_type in [\"audio\", \"text\", \"video\"]:\n",
        "  files, summaries = create_summary(modality_type)\n",
        "  all_files.extend(files)\n",
        "  all_summaries.extend(summaries)"
      ],
      "metadata": {
        "colab": {
          "base_uri": "https://localhost:8080/",
          "height": 382
        },
        "id": "rqpNEAMwEHYF",
        "outputId": "4518fb06-b0fe-4c14-d495-4ff0eb53f4e5"
      },
      "execution_count": 41,
      "outputs": [
        {
          "output_type": "stream",
          "name": "stdout",
          "text": [
            "resources/audio/Apollo11OnboardAudioHighlightClip1.mp3\n",
            "resources/audio/Apollo11OnboardAudioHighlightClip5.mp3\n",
            "resources/audio/Apollo11OnboardAudioHighlightClip2.mp3\n",
            "resources/audio/Apollo11OnboardAudioHighlightClip4.mp3\n",
            "resources/audio/Apollo11OnboardAudioHighlightClip3.mp3\n",
            "resources/text/images-020.jpg\n",
            "resources/text/images-333.jpg\n",
            "resources/text/images-023.jpg\n",
            "resources/video/BuzzDescendsCompilation.mov\n",
            "Waiting for video file upload...\n",
            "resources/video/OneSmallStepCompilation.mov\n",
            "Waiting for video file upload...\n",
            "resources/video/Apollo11Intro.mov\n",
            "Waiting for video file upload...\n",
            "Waiting for video file upload...\n",
            "resources/video/Apollo11PlaqueComparison.mov\n",
            "Waiting for video file upload...\n",
            "resources/video/Apollo11MoonwalkMontage.mov\n",
            "Waiting for video file upload...\n",
            "resources/video/RaisingTheAmericanFlag.mov\n",
            "Waiting for video file upload...\n"
          ]
        }
      ]
    },
    {
      "cell_type": "code",
      "source": [
        "db = create_chroma_db(all_summaries, \"nasa\")"
      ],
      "metadata": {
        "id": "E-tnnT9bFKgE"
      },
      "execution_count": null,
      "outputs": []
    },
    {
      "cell_type": "markdown",
      "source": [
        "Again, ensure that the embeddings were generated. Notice that now, we have audio, video, and text data."
      ],
      "metadata": {
        "id": "ZXn8Oy4bFT1e"
      }
    },
    {
      "cell_type": "code",
      "source": [
        "peek_data = db.peek()\n",
        "data = {\n",
        "    'documents': peek_data['documents'],\n",
        "    'embeddings': []\n",
        "}\n",
        "for emb in peek_data['embeddings']:\n",
        "    data['embeddings'].append(emb)\n",
        "\n",
        "df = pd.DataFrame.from_dict(data, orient='index').transpose()\n",
        "df\n"
      ],
      "metadata": {
        "colab": {
          "base_uri": "https://localhost:8080/",
          "height": 363
        },
        "id": "QVGRnZSSFVDn",
        "outputId": "cf91d2dc-4548-4a6b-98a5-adb250167d62"
      },
      "execution_count": 44,
      "outputs": [
        {
          "output_type": "execute_result",
          "data": {
            "text/plain": [
              "         documents                                         embeddings\n",
              "0  Audio Summary 1  [0.018710002303123474, 0.05939813330769539, -0...\n",
              "1  Audio Summary 2  [0.01287598442286253, 0.06406120955944061, -0....\n",
              "2  Audio Summary 3  [0.022134069353342056, 0.06920761615037918, -0...\n",
              "3  Audio Summary 4  [0.02908291108906269, 0.07372202724218369, -0....\n",
              "4  Audio Summary 5  [0.014025907963514328, 0.08065280318260193, -0...\n",
              "5   Text Summary 1  [-0.0128444479778409, 0.062167178839445114, -0...\n",
              "6   Text Summary 2  [-0.01730366423726082, 0.0636621043086052, -0....\n",
              "7   Text Summary 3  [-0.007510444615036249, 0.06765061616897583, -...\n",
              "8  Video Summary 1  [-0.011761386878788471, 0.013827462680637836, ...\n",
              "9  Video Summary 2  [-0.01832258142530918, 0.018737012520432472, -..."
            ],
            "text/html": [
              "\n",
              "  <div id=\"df-c87ddad4-6271-4047-9b3f-3a17a5d6e768\" class=\"colab-df-container\">\n",
              "    <div>\n",
              "<style scoped>\n",
              "    .dataframe tbody tr th:only-of-type {\n",
              "        vertical-align: middle;\n",
              "    }\n",
              "\n",
              "    .dataframe tbody tr th {\n",
              "        vertical-align: top;\n",
              "    }\n",
              "\n",
              "    .dataframe thead th {\n",
              "        text-align: right;\n",
              "    }\n",
              "</style>\n",
              "<table border=\"1\" class=\"dataframe\">\n",
              "  <thead>\n",
              "    <tr style=\"text-align: right;\">\n",
              "      <th></th>\n",
              "      <th>documents</th>\n",
              "      <th>embeddings</th>\n",
              "    </tr>\n",
              "  </thead>\n",
              "  <tbody>\n",
              "    <tr>\n",
              "      <th>0</th>\n",
              "      <td>Audio Summary 1</td>\n",
              "      <td>[0.018710002303123474, 0.05939813330769539, -0...</td>\n",
              "    </tr>\n",
              "    <tr>\n",
              "      <th>1</th>\n",
              "      <td>Audio Summary 2</td>\n",
              "      <td>[0.01287598442286253, 0.06406120955944061, -0....</td>\n",
              "    </tr>\n",
              "    <tr>\n",
              "      <th>2</th>\n",
              "      <td>Audio Summary 3</td>\n",
              "      <td>[0.022134069353342056, 0.06920761615037918, -0...</td>\n",
              "    </tr>\n",
              "    <tr>\n",
              "      <th>3</th>\n",
              "      <td>Audio Summary 4</td>\n",
              "      <td>[0.02908291108906269, 0.07372202724218369, -0....</td>\n",
              "    </tr>\n",
              "    <tr>\n",
              "      <th>4</th>\n",
              "      <td>Audio Summary 5</td>\n",
              "      <td>[0.014025907963514328, 0.08065280318260193, -0...</td>\n",
              "    </tr>\n",
              "    <tr>\n",
              "      <th>5</th>\n",
              "      <td>Text Summary 1</td>\n",
              "      <td>[-0.0128444479778409, 0.062167178839445114, -0...</td>\n",
              "    </tr>\n",
              "    <tr>\n",
              "      <th>6</th>\n",
              "      <td>Text Summary 2</td>\n",
              "      <td>[-0.01730366423726082, 0.0636621043086052, -0....</td>\n",
              "    </tr>\n",
              "    <tr>\n",
              "      <th>7</th>\n",
              "      <td>Text Summary 3</td>\n",
              "      <td>[-0.007510444615036249, 0.06765061616897583, -...</td>\n",
              "    </tr>\n",
              "    <tr>\n",
              "      <th>8</th>\n",
              "      <td>Video Summary 1</td>\n",
              "      <td>[-0.011761386878788471, 0.013827462680637836, ...</td>\n",
              "    </tr>\n",
              "    <tr>\n",
              "      <th>9</th>\n",
              "      <td>Video Summary 2</td>\n",
              "      <td>[-0.01832258142530918, 0.018737012520432472, -...</td>\n",
              "    </tr>\n",
              "  </tbody>\n",
              "</table>\n",
              "</div>\n",
              "    <div class=\"colab-df-buttons\">\n",
              "\n",
              "  <div class=\"colab-df-container\">\n",
              "    <button class=\"colab-df-convert\" onclick=\"convertToInteractive('df-c87ddad4-6271-4047-9b3f-3a17a5d6e768')\"\n",
              "            title=\"Convert this dataframe to an interactive table.\"\n",
              "            style=\"display:none;\">\n",
              "\n",
              "  <svg xmlns=\"http://www.w3.org/2000/svg\" height=\"24px\" viewBox=\"0 -960 960 960\">\n",
              "    <path d=\"M120-120v-720h720v720H120Zm60-500h600v-160H180v160Zm220 220h160v-160H400v160Zm0 220h160v-160H400v160ZM180-400h160v-160H180v160Zm440 0h160v-160H620v160ZM180-180h160v-160H180v160Zm440 0h160v-160H620v160Z\"/>\n",
              "  </svg>\n",
              "    </button>\n",
              "\n",
              "  <style>\n",
              "    .colab-df-container {\n",
              "      display:flex;\n",
              "      gap: 12px;\n",
              "    }\n",
              "\n",
              "    .colab-df-convert {\n",
              "      background-color: #E8F0FE;\n",
              "      border: none;\n",
              "      border-radius: 50%;\n",
              "      cursor: pointer;\n",
              "      display: none;\n",
              "      fill: #1967D2;\n",
              "      height: 32px;\n",
              "      padding: 0 0 0 0;\n",
              "      width: 32px;\n",
              "    }\n",
              "\n",
              "    .colab-df-convert:hover {\n",
              "      background-color: #E2EBFA;\n",
              "      box-shadow: 0px 1px 2px rgba(60, 64, 67, 0.3), 0px 1px 3px 1px rgba(60, 64, 67, 0.15);\n",
              "      fill: #174EA6;\n",
              "    }\n",
              "\n",
              "    .colab-df-buttons div {\n",
              "      margin-bottom: 4px;\n",
              "    }\n",
              "\n",
              "    [theme=dark] .colab-df-convert {\n",
              "      background-color: #3B4455;\n",
              "      fill: #D2E3FC;\n",
              "    }\n",
              "\n",
              "    [theme=dark] .colab-df-convert:hover {\n",
              "      background-color: #434B5C;\n",
              "      box-shadow: 0px 1px 3px 1px rgba(0, 0, 0, 0.15);\n",
              "      filter: drop-shadow(0px 1px 2px rgba(0, 0, 0, 0.3));\n",
              "      fill: #FFFFFF;\n",
              "    }\n",
              "  </style>\n",
              "\n",
              "    <script>\n",
              "      const buttonEl =\n",
              "        document.querySelector('#df-c87ddad4-6271-4047-9b3f-3a17a5d6e768 button.colab-df-convert');\n",
              "      buttonEl.style.display =\n",
              "        google.colab.kernel.accessAllowed ? 'block' : 'none';\n",
              "\n",
              "      async function convertToInteractive(key) {\n",
              "        const element = document.querySelector('#df-c87ddad4-6271-4047-9b3f-3a17a5d6e768');\n",
              "        const dataTable =\n",
              "          await google.colab.kernel.invokeFunction('convertToInteractive',\n",
              "                                                    [key], {});\n",
              "        if (!dataTable) return;\n",
              "\n",
              "        const docLinkHtml = 'Like what you see? Visit the ' +\n",
              "          '<a target=\"_blank\" href=https://colab.research.google.com/notebooks/data_table.ipynb>data table notebook</a>'\n",
              "          + ' to learn more about interactive tables.';\n",
              "        element.innerHTML = '';\n",
              "        dataTable['output_type'] = 'display_data';\n",
              "        await google.colab.output.renderOutput(dataTable, element);\n",
              "        const docLink = document.createElement('div');\n",
              "        docLink.innerHTML = docLinkHtml;\n",
              "        element.appendChild(docLink);\n",
              "      }\n",
              "    </script>\n",
              "  </div>\n",
              "\n",
              "\n",
              "<div id=\"df-686b9956-db8f-4546-a4aa-1498fe316c7d\">\n",
              "  <button class=\"colab-df-quickchart\" onclick=\"quickchart('df-686b9956-db8f-4546-a4aa-1498fe316c7d')\"\n",
              "            title=\"Suggest charts\"\n",
              "            style=\"display:none;\">\n",
              "\n",
              "<svg xmlns=\"http://www.w3.org/2000/svg\" height=\"24px\"viewBox=\"0 0 24 24\"\n",
              "     width=\"24px\">\n",
              "    <g>\n",
              "        <path d=\"M19 3H5c-1.1 0-2 .9-2 2v14c0 1.1.9 2 2 2h14c1.1 0 2-.9 2-2V5c0-1.1-.9-2-2-2zM9 17H7v-7h2v7zm4 0h-2V7h2v10zm4 0h-2v-4h2v4z\"/>\n",
              "    </g>\n",
              "</svg>\n",
              "  </button>\n",
              "\n",
              "<style>\n",
              "  .colab-df-quickchart {\n",
              "      --bg-color: #E8F0FE;\n",
              "      --fill-color: #1967D2;\n",
              "      --hover-bg-color: #E2EBFA;\n",
              "      --hover-fill-color: #174EA6;\n",
              "      --disabled-fill-color: #AAA;\n",
              "      --disabled-bg-color: #DDD;\n",
              "  }\n",
              "\n",
              "  [theme=dark] .colab-df-quickchart {\n",
              "      --bg-color: #3B4455;\n",
              "      --fill-color: #D2E3FC;\n",
              "      --hover-bg-color: #434B5C;\n",
              "      --hover-fill-color: #FFFFFF;\n",
              "      --disabled-bg-color: #3B4455;\n",
              "      --disabled-fill-color: #666;\n",
              "  }\n",
              "\n",
              "  .colab-df-quickchart {\n",
              "    background-color: var(--bg-color);\n",
              "    border: none;\n",
              "    border-radius: 50%;\n",
              "    cursor: pointer;\n",
              "    display: none;\n",
              "    fill: var(--fill-color);\n",
              "    height: 32px;\n",
              "    padding: 0;\n",
              "    width: 32px;\n",
              "  }\n",
              "\n",
              "  .colab-df-quickchart:hover {\n",
              "    background-color: var(--hover-bg-color);\n",
              "    box-shadow: 0 1px 2px rgba(60, 64, 67, 0.3), 0 1px 3px 1px rgba(60, 64, 67, 0.15);\n",
              "    fill: var(--button-hover-fill-color);\n",
              "  }\n",
              "\n",
              "  .colab-df-quickchart-complete:disabled,\n",
              "  .colab-df-quickchart-complete:disabled:hover {\n",
              "    background-color: var(--disabled-bg-color);\n",
              "    fill: var(--disabled-fill-color);\n",
              "    box-shadow: none;\n",
              "  }\n",
              "\n",
              "  .colab-df-spinner {\n",
              "    border: 2px solid var(--fill-color);\n",
              "    border-color: transparent;\n",
              "    border-bottom-color: var(--fill-color);\n",
              "    animation:\n",
              "      spin 1s steps(1) infinite;\n",
              "  }\n",
              "\n",
              "  @keyframes spin {\n",
              "    0% {\n",
              "      border-color: transparent;\n",
              "      border-bottom-color: var(--fill-color);\n",
              "      border-left-color: var(--fill-color);\n",
              "    }\n",
              "    20% {\n",
              "      border-color: transparent;\n",
              "      border-left-color: var(--fill-color);\n",
              "      border-top-color: var(--fill-color);\n",
              "    }\n",
              "    30% {\n",
              "      border-color: transparent;\n",
              "      border-left-color: var(--fill-color);\n",
              "      border-top-color: var(--fill-color);\n",
              "      border-right-color: var(--fill-color);\n",
              "    }\n",
              "    40% {\n",
              "      border-color: transparent;\n",
              "      border-right-color: var(--fill-color);\n",
              "      border-top-color: var(--fill-color);\n",
              "    }\n",
              "    60% {\n",
              "      border-color: transparent;\n",
              "      border-right-color: var(--fill-color);\n",
              "    }\n",
              "    80% {\n",
              "      border-color: transparent;\n",
              "      border-right-color: var(--fill-color);\n",
              "      border-bottom-color: var(--fill-color);\n",
              "    }\n",
              "    90% {\n",
              "      border-color: transparent;\n",
              "      border-bottom-color: var(--fill-color);\n",
              "    }\n",
              "  }\n",
              "</style>\n",
              "\n",
              "  <script>\n",
              "    async function quickchart(key) {\n",
              "      const quickchartButtonEl =\n",
              "        document.querySelector('#' + key + ' button');\n",
              "      quickchartButtonEl.disabled = true;  // To prevent multiple clicks.\n",
              "      quickchartButtonEl.classList.add('colab-df-spinner');\n",
              "      try {\n",
              "        const charts = await google.colab.kernel.invokeFunction(\n",
              "            'suggestCharts', [key], {});\n",
              "      } catch (error) {\n",
              "        console.error('Error during call to suggestCharts:', error);\n",
              "      }\n",
              "      quickchartButtonEl.classList.remove('colab-df-spinner');\n",
              "      quickchartButtonEl.classList.add('colab-df-quickchart-complete');\n",
              "    }\n",
              "    (() => {\n",
              "      let quickchartButtonEl =\n",
              "        document.querySelector('#df-686b9956-db8f-4546-a4aa-1498fe316c7d button');\n",
              "      quickchartButtonEl.style.display =\n",
              "        google.colab.kernel.accessAllowed ? 'block' : 'none';\n",
              "    })();\n",
              "  </script>\n",
              "</div>\n",
              "\n",
              "  <div id=\"id_89ed88bd-56e4-4e6d-88f0-37c84436c9e0\">\n",
              "    <style>\n",
              "      .colab-df-generate {\n",
              "        background-color: #E8F0FE;\n",
              "        border: none;\n",
              "        border-radius: 50%;\n",
              "        cursor: pointer;\n",
              "        display: none;\n",
              "        fill: #1967D2;\n",
              "        height: 32px;\n",
              "        padding: 0 0 0 0;\n",
              "        width: 32px;\n",
              "      }\n",
              "\n",
              "      .colab-df-generate:hover {\n",
              "        background-color: #E2EBFA;\n",
              "        box-shadow: 0px 1px 2px rgba(60, 64, 67, 0.3), 0px 1px 3px 1px rgba(60, 64, 67, 0.15);\n",
              "        fill: #174EA6;\n",
              "      }\n",
              "\n",
              "      [theme=dark] .colab-df-generate {\n",
              "        background-color: #3B4455;\n",
              "        fill: #D2E3FC;\n",
              "      }\n",
              "\n",
              "      [theme=dark] .colab-df-generate:hover {\n",
              "        background-color: #434B5C;\n",
              "        box-shadow: 0px 1px 3px 1px rgba(0, 0, 0, 0.15);\n",
              "        filter: drop-shadow(0px 1px 2px rgba(0, 0, 0, 0.3));\n",
              "        fill: #FFFFFF;\n",
              "      }\n",
              "    </style>\n",
              "    <button class=\"colab-df-generate\" onclick=\"generateWithVariable('df')\"\n",
              "            title=\"Generate code using this dataframe.\"\n",
              "            style=\"display:none;\">\n",
              "\n",
              "  <svg xmlns=\"http://www.w3.org/2000/svg\" height=\"24px\"viewBox=\"0 0 24 24\"\n",
              "       width=\"24px\">\n",
              "    <path d=\"M7,19H8.4L18.45,9,17,7.55,7,17.6ZM5,21V16.75L18.45,3.32a2,2,0,0,1,2.83,0l1.4,1.43a1.91,1.91,0,0,1,.58,1.4,1.91,1.91,0,0,1-.58,1.4L9.25,21ZM18.45,9,17,7.55Zm-12,3A5.31,5.31,0,0,0,4.9,8.1,5.31,5.31,0,0,0,1,6.5,5.31,5.31,0,0,0,4.9,4.9,5.31,5.31,0,0,0,6.5,1,5.31,5.31,0,0,0,8.1,4.9,5.31,5.31,0,0,0,12,6.5,5.46,5.46,0,0,0,6.5,12Z\"/>\n",
              "  </svg>\n",
              "    </button>\n",
              "    <script>\n",
              "      (() => {\n",
              "      const buttonEl =\n",
              "        document.querySelector('#id_89ed88bd-56e4-4e6d-88f0-37c84436c9e0 button.colab-df-generate');\n",
              "      buttonEl.style.display =\n",
              "        google.colab.kernel.accessAllowed ? 'block' : 'none';\n",
              "\n",
              "      buttonEl.onclick = () => {\n",
              "        google.colab.notebook.generateWithVariable('df');\n",
              "      }\n",
              "      })();\n",
              "    </script>\n",
              "  </div>\n",
              "\n",
              "    </div>\n",
              "  </div>\n"
            ],
            "application/vnd.google.colaboratory.intrinsic+json": {
              "type": "dataframe",
              "variable_name": "df",
              "summary": "{\n  \"name\": \"df\",\n  \"rows\": 10,\n  \"fields\": [\n    {\n      \"column\": \"documents\",\n      \"properties\": {\n        \"dtype\": \"string\",\n        \"num_unique_values\": 10,\n        \"samples\": [\n          \"Video Summary 1\",\n          \"Audio Summary 2\",\n          \"Text Summary 1\"\n        ],\n        \"semantic_type\": \"\",\n        \"description\": \"\"\n      }\n    },\n    {\n      \"column\": \"embeddings\",\n      \"properties\": {\n        \"dtype\": \"object\",\n        \"semantic_type\": \"\",\n        \"description\": \"\"\n      }\n    }\n  ]\n}"
            }
          },
          "metadata": {},
          "execution_count": 44
        }
      ]
    },
    {
      "cell_type": "code",
      "source": [
        "files = get_relevant_files(\"communication with Mission Control\", db)\n",
        "print(files)"
      ],
      "metadata": {
        "colab": {
          "base_uri": "https://localhost:8080/",
          "height": 34
        },
        "id": "t31vdNOnGWhL",
        "outputId": "3fefd65a-2914-4027-e03c-bc3e95eab131"
      },
      "execution_count": 48,
      "outputs": [
        {
          "output_type": "stream",
          "name": "stdout",
          "text": [
            "['5', '6', '7']\n"
          ]
        }
      ]
    },
    {
      "cell_type": "markdown",
      "source": [
        "Can we do more than just return the most relevant file? Yes we can! We can ask Gemini to return a response to the query using the files it thinks are most relevant, provide an answer and tell us what files it used! This is really exciting, and has vast applications in many industries."
      ],
      "metadata": {
        "id": "nPuxh41eGbEX"
      }
    },
    {
      "cell_type": "code",
      "source": [
        "def query_rag(query, db):\n",
        "    files = get_relevant_files(query, db)\n",
        "    prompt = [all_files[int(f)] for f in files]\n",
        "    prompt.append(\"Generate a response to the query using the provided files. Here is the query.\")\n",
        "    prompt.append(query)\n",
        "    return model.generate_content(prompt).text, [all_file_names[int(f)] for f in files]"
      ],
      "metadata": {
        "id": "S6BZN0BhFiu8"
      },
      "execution_count": 45,
      "outputs": []
    },
    {
      "cell_type": "code",
      "source": [
        "for response in query_rag(\"Explain what happened with the Apollo 11 Mission.\", db):\n",
        "    print(response)"
      ],
      "metadata": {
        "colab": {
          "base_uri": "https://localhost:8080/",
          "height": 89
        },
        "id": "9_4_hnXlFm_G",
        "outputId": "347c02da-52dd-4763-cb33-4212e1ce0c07"
      },
      "execution_count": 46,
      "outputs": [
        {
          "output_type": "stream",
          "name": "stdout",
          "text": [
            "The Apollo 11 mission was the first crewed mission to land on the Moon.  On July 20, 1969, astronauts Neil Armstrong and Buzz Aldrin landed the Lunar Module, Eagle, on the Moon's surface in the Sea of Tranquility. Armstrong became the first human to walk on the Moon, followed shortly by Aldrin. They spent about 21.5 hours on the lunar surface, collecting samples, planting a US flag, and deploying scientific instruments.  Afterward, they rejoined Michael Collins in the Command Module, Columbia, and returned safely to Earth, splashing down in the Pacific Ocean on July 24, 1969.  The mission was a monumental achievement in human history and a significant victory in the Space Race.\n",
            "\n",
            "['resources/video/BuzzDescendsCompilation.mov', 'resources/text/images-023.jpg', 'resources/video/OneSmallStepCompilation.mov']\n"
          ]
        }
      ]
    },
    {
      "cell_type": "code",
      "source": [
        "for response in query_rag(\"What happens at the Translunar Coast in the Mission Description?\", db):\n",
        "    print(response)"
      ],
      "metadata": {
        "colab": {
          "base_uri": "https://localhost:8080/",
          "height": 72
        },
        "id": "Rx5rEdtlFyCO",
        "outputId": "8c959490-1ec9-4834-e71b-096c7fb6fbcc"
      },
      "execution_count": 47,
      "outputs": [
        {
          "output_type": "stream",
          "name": "stdout",
          "text": [
            "According to the provided document, the Translunar Coast is where the spacecraft transitions from Earth orbit to a trajectory towards the Moon.  There is no further detail on events at the Translunar Coast in this document.\n",
            "['resources/video/RaisingTheAmericanFlag.mov', 'resources/video/BuzzDescendsCompilation.mov', 'resources/text/images-020.jpg']\n"
          ]
        }
      ]
    },
    {
      "cell_type": "markdown",
      "source": [
        "# Congrats! We've built a full end to end multimodal RAG with just a few tools."
      ],
      "metadata": {
        "id": "nZMecK6XF2om"
      }
    }
  ]
}